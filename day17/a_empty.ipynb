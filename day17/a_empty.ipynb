{
 "cells": [
  {
   "cell_type": "code",
   "execution_count": null,
   "metadata": {},
   "outputs": [
    {
     "data": {
      "text/plain": [
       "15\n"
      ]
     },
     "metadata": {},
     "output_type": "display_data"
    }
   ],
   "source": [
    "# A = 32**15-1 # lowerbound\n",
    "# A = 32**16-1 # upperbound\n",
    "\n",
    "def apply_one_iter(a: int) -> int:\n",
    "    return (a//4) // 8\n",
    "\n",
    "for i in range(17):\n",
    "    A = apply_one_iter(A)\n",
    "    if A==0:\n",
    "        break\n",
    "\n",
    "print(i)"
   ]
  },
  {
   "cell_type": "code",
   "execution_count": null,
   "metadata": {},
   "outputs": [
    {
     "data": {
      "text/plain": [
       "1171146887751672012996608\n"
      ]
     },
     "metadata": {},
     "output_type": "display_data"
    }
   ],
   "source": [
    "32**16 - 32**15"
   ]
  },
  {
   "cell_type": "code",
   "execution_count": null,
   "metadata": {},
   "outputs": [
    {
     "data": {
      "text/plain": [
       "1\n"
      ]
     },
     "metadata": {},
     "output_type": "display_data"
    }
   ],
   "source": [
    "def evaluate_bits_as_int(bits: list[int]) -> int:\n",
    "    n = len(bits)\n",
    "    number = 0\n",
    "    for i, b in enumerate(bits):\n",
    "        if b==0:\n",
    "            continue\n",
    "        number += 2**(n-i-1)\n",
    "    return number\n",
    "\n",
    "assert evaluate_bits_as_int([1]) == 1\n",
    "assert evaluate_bits_as_int([1,0]) == 2\n",
    "assert evaluate_bits_as_int([1,1,0]) == 6"
   ]
  },
  {
   "cell_type": "code",
   "execution_count": null,
   "metadata": {},
   "outputs": [
    {
     "data": {
      "text/plain": [
       "[0, 1, 0]\n"
      ]
     },
     "metadata": {},
     "output_type": "display_data"
    }
   ],
   "source": [
    "block_of_10_bits = [\n",
    "    0,0,0,1,1, # 4\n",
    "    0,0,1,0,1, # 2\n",
    "]\n",
    "\n",
    "b = block_of_10_bits[-3:]\n",
    "block_of_10_bits = [0]*2 + block_of_10_bits[:-2]\n",
    "shift_of_c = evaluate_bits_as_int(b)\n",
    "c = [0]*shift_of_c + block_of_10_bits[:len(block_of_10_bits)-shift_of_c]\n",
    "b = [i^j for i, j in zip(b,c[:3])]\n",
    "b = [i^1 for i in b]\n",
    "print(b)"
   ]
  },
  {
   "cell_type": "code",
   "execution_count": null,
   "metadata": {},
   "outputs": [
    {
     "data": {
      "text/plain": [
       "269250989246848067344485\n"
      ]
     },
     "metadata": {},
     "output_type": "display_data"
    }
   ],
   "source": [
    "number = [\n",
    "    0,0,1,1,1, # 0\n",
    "    0,0,1,0,0, # 3\n",
    "    0,0,0,1,0, # 5\n",
    "    0,0,0,1,0, # 5\n",
    "    0,0,0,0,0, # 7\n",
    "    0,0,1,1,0, # 1\n",
    "    0,0,1,0,0, # 3\n",
    "    0,0,1,1,1, # 0\n",
    "    0,0,1,0,0, # 3\n",
    "    0,0,0,1,1, # 4\n",
    "    0,0,0,1,0, # 5\n",
    "    0,0,0,0,0, # 7\n",
    "    0,0,1,0,1, # 2\n",
    "    0,0,1,1,0, # 1\n",
    "    0,0,0,1,1, # 4\n",
    "    0,0,1,0,1, # 2\n",
    "]\n",
    "print(evaluate_bits_as_int(number))"
   ]
  },
  {
   "cell_type": "code",
   "execution_count": null,
   "metadata": {},
   "outputs": [
    {
     "data": {
      "text/plain": [
       "7\n"
      ]
     },
     "metadata": {},
     "output_type": "display_data"
    }
   ],
   "source": [
    "# a = 269250989246848067344485\n",
    "b = a % 8\n",
    "a = a // 2**2\n",
    "c = a // (2**b)\n",
    "b = b^c\n",
    "a = a // (2**3)\n",
    "b = b^7\n",
    "print(b % 8)\n"
   ]
  }
 ],
 "metadata": {
  "language_info": {
   "name": "python"
  }
 },
 "nbformat": 4,
 "nbformat_minor": 2
}
